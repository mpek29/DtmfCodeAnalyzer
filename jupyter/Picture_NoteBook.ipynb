{
 "cells": [
  {
   "cell_type": "code",
   "execution_count": 45,
   "metadata": {},
   "outputs": [],
   "source": [
    "import numpy as np\n",
    "from IPython.display import Audio\n",
    "import cv2\n",
    "from matplotlib import pyplot as plt\n",
    "import time"
   ]
  },
  {
   "cell_type": "markdown",
   "metadata": {},
   "source": [
    "<center><h1>Compression d'image</h1></center>"
   ]
  },
  {
   "cell_type": "markdown",
   "metadata": {},
   "source": [
    "# Les fonctions de la méthode mathématique (Utilisable en tout lieux)"
   ]
  },
  {
   "cell_type": "code",
   "execution_count": 46,
   "metadata": {},
   "outputs": [],
   "source": [
    "# Norme (produit scalaire d'un vecteur avec lui même)\n",
    "def norm(u):\n",
    "    return np.sqrt(scalarProduct(u,u))\n",
    "\n",
    "# Coordonées de la projection d'un vecteur v sur une famille orthonormée u\n",
    "# Retourne une liste de scalaire de même longueur que la taille de u\n",
    "def coordonnees(u,v):\n",
    "    c = []\n",
    "    for i in range(len(u)):\n",
    "        c.append(scalarProduct(u[i],v))\n",
    "    return c\n",
    "\n",
    "# Projection orthogonale de v sur la famille u, qui utilise les coordonnées calculées précédemment\n",
    "# Et qui renvoie c et la projection orthogonale\n",
    "def projectionOrt(u,v):\n",
    "    c = coordonnees(u,v)\n",
    "    p = np.zeros_like(v)\n",
    "    for i in range(len(u)):\n",
    "        p += c[i]*u[i]\n",
    "    return [c,p]\n"
   ]
  },
  {
   "cell_type": "markdown",
   "metadata": {},
   "source": [
    "# Les fonctions propre au contexte de la compression d'image (espace vectoriel, famille de référence et produit scalaire)"
   ]
  },
  {
   "cell_type": "code",
   "execution_count": 52,
   "metadata": {},
   "outputs": [],
   "source": [
    "# Produit scalaire \n",
    "def scalarProduct(u,v):\n",
    "    sum_w = 0\n",
    "    for x in range(len(u)):\n",
    "        for y in range(len(u[0])):\n",
    "            for z in range(len(u[0][0])):\n",
    "                sum_w += (u[x][y][z]*v[x][y][z])\n",
    "    return sum_w\n",
    "    \n",
    "# Notre famille de référence\n",
    "def createOrthonormalBasis():\n",
    "    v= []\n",
    "    u=(np.load(\"base8.npz\")[\"base\"].astype(np.float64)/127.5-1)\n",
    "    \n",
    "    for i in range(0,50):\n",
    "        sum_proj = 0\n",
    "        for j in range(0,i):\n",
    "            sum_proj += (scalarProduct(u[i],v[j]) / norm(v[j])**2)*v[j]\n",
    "        \n",
    "        v.append((u[i]- sum_proj)/(norm(u[i]- sum_proj)))\n",
    "    \n",
    "    return v\n",
    "\n",
    "# Résolution des images\n",
    "W=200 \n",
    "\n",
    "def lireImage(file):\n",
    "    bgr8b=cv2.imread(file) # Lecture du fichier\n",
    "    bgr200=cv2.resize(bgr8b, (W,W)) # Redimensionnement\n",
    "    rgb200=cv2.cvtColor(bgr200, cv2.COLOR_BGR2RGB) \n",
    "    # OpenCV range les octets en B, V, R. L'affichage les veut en R, V, B\n",
    "    rgb200fl=rgb200.astype(np.float64)/127.5-1 # Valeurs entre -1 et 1 plutot que entre 0 et 255\n",
    "    # Notez que ce n'est pas strictement nécessaire. De toutes façons, notre espace vectoriel est celui des images    #\n",
    "    # dont les valeurs valent entre -∞ et +∞ (forcément, on peut de toutes façons tout multiplier par n'importe quel\n",
    "    # scalaire)\n",
    "    # L'avantage de se placer entre -1 et 1, c'est qu'au moins les images négatives continuent à avoir du sens pour \n",
    "    # nous\n",
    "    # Le cvtColor est là parce que par défaut les images sont lues en bleu-vert-rouge, alors que les fonctions \n",
    "    # d'affichage supposent que c'est du rouge-vert-bleu\n",
    "    # Le .astype(np.float64) est pour manipuler des réels et non des entiers comme valeurs    \n",
    "    return rgb200fl\n",
    "\n",
    "# L'affichage pourrait être plus simple. Mais comme vous avez souvent envie de faire des animations,\n",
    "# en passant par ces fonctions, vous le pouvez.\n",
    "# Vous devez appeler initAffichage une fois au début de la cellule qui va faire des affichages\n",
    "# Puis affichage(image200x200, \"un texte\") à chaque image à afficher\n",
    "# Utilisez \"affichage\" avec parcimonie, car cela prend un bon 1/4 de seconde \n",
    "def initAffichage():\n",
    "    global imageAffich, figAffich\n",
    "    figAffich=plt.figure(figsize=(8,8))\n",
    "    imageAffich=plt.imshow(np.zeros((W,W,3), dtype=np.float64))\n",
    "    \n",
    "def affichage(img, titre=''):\n",
    "    global imageAffich, figAffich\n",
    "    imageAffich.set_data((img*0.5+0.5).clip(0,1))\n",
    "    figAffich.canvas.draw()\n",
    "    plt.title(titre)\n",
    "    time.sleep(0.1)"
   ]
  },
  {
   "cell_type": "code",
   "execution_count": null,
   "metadata": {},
   "outputs": [],
   "source": []
  },
  {
   "cell_type": "markdown",
   "metadata": {},
   "source": [
    "# Démonstration\n",
    "On test ici la fiabilité des différentes fonctions crée précédemment."
   ]
  },
  {
   "cell_type": "code",
   "execution_count": null,
   "metadata": {},
   "outputs": [],
   "source": [
    "# On crée notre espace vectoriel\n",
    "u = createOrthonormalBasis()\n",
    "\n",
    "# On va ici récupérer une image\n",
    "#picture = lireImage(\"Pessi-lionel-messi-595x375.jpg\")\n",
    "\n",
    "# On récupère les coordonnées de notre son dans la base ainsi que sa projection orthonormée\n",
    "picture_coeff, picture_product = projectionOrt(u, u[4])\n",
    "\n",
    "#On affiche l'image d'origine\n",
    "initAffichage()\n",
    "affichage(picture,\"Image d'origine\")\n",
    "\n",
    "#On affiche la projection orthogonale pour vérifier le fonctionnement correcte de notre code\n",
    "initAffichage()\n",
    "affichage(picture_product,\"Projeté de l'image dans notre base\")\n",
    "\n",
    "v=(np.load(\"base8.npz\")[\"base\"].astype(np.float64)/127.5-1)\n",
    "\n",
    "print(\"--- Norme ---\")\n",
    "print(norm(u[0]))\n",
    "print(norm(u[1]))\n",
    "\n",
    "print(\"\")\n",
    "print(\"--- Orthogonalité ---\")\n",
    "print( scalarProduct(u[0]/norm(u[0]),v[0]/norm(v[0])))\n",
    "print(scalarProduct(u[1],u[0]))\n",
    "print(\"\")\n",
    "print(scalarProduct(u[2],u[0]))\n",
    "print(scalarProduct(u[2],u[1]))\n",
    "print(\"\")\n",
    "print(scalarProduct(u[3],u[0]))\n",
    "print(scalarProduct(u[3],u[1]))\n",
    "print(scalarProduct(u[3],u[2]))\n",
    "print(\"\")\n",
    "print(scalarProduct(u[4],u[0]))\n",
    "print(scalarProduct(u[4],u[1]))\n",
    "print(scalarProduct(u[4],u[2]))\n",
    "print(scalarProduct(u[4],u[3]))\n",
    "\n"
   ]
  },
  {
   "cell_type": "code",
   "execution_count": null,
   "metadata": {},
   "outputs": [],
   "source": []
  }
 ],
 "metadata": {
  "kernelspec": {
   "display_name": "Python 3",
   "language": "python",
   "name": "python3"
  },
  "language_info": {
   "codemirror_mode": {
    "name": "ipython",
    "version": 3
   },
   "file_extension": ".py",
   "mimetype": "text/x-python",
   "name": "python",
   "nbconvert_exporter": "python",
   "pygments_lexer": "ipython3",
   "version": "3.8.3"
  }
 },
 "nbformat": 4,
 "nbformat_minor": 5
}
